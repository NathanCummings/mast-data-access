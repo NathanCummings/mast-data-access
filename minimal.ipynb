{
 "cells": [
  {
   "cell_type": "code",
   "execution_count": null,
   "id": "f28844e8-b0bd-4d2e-b979-341dbcf6ef4d",
   "metadata": {},
   "outputs": [],
   "source": [
    "import intake\n",
    "import numpy as np\n",
    "import PIL\n",
    "from IPython.display import Image\n",
    "from matplotlib import pyplot as plt"
   ]
  },
  {
   "cell_type": "code",
   "execution_count": null,
   "id": "89fb6130",
   "metadata": {},
   "outputs": [],
   "source": [
    "def apply_colormap(data, cmap=\"pink\"):\n",
    "    normed_data = (data - np.min(data)) / (\n",
    "        np.max(data) - np.min(data)\n",
    "    )  # Normalize the data to 0-1\n",
    "    colormap = plt.get_cmap(cmap)\n",
    "    colored_data = colormap(normed_data)\n",
    "    return (colored_data[:, :, :3] * 255).astype(np.uint8)"
   ]
  },
  {
   "cell_type": "code",
   "execution_count": null,
   "id": "505b23ef",
   "metadata": {},
   "outputs": [],
   "source": [
    "catalog = intake.open_catalog(\"https://mastapp.site/intake/catalog.yml\")\n",
    "\n",
    "shot = 30420\n",
    "group = \"amc\"  # One of our types of image data\n",
    "dataset = catalog.level1.shots(url=f\"s3://mast/level1/shots/{shot}.zarr\", group=group)\n",
    "dataset = dataset.to_dask()\n",
    "dataset"
   ]
  },
  {
   "cell_type": "code",
   "execution_count": null,
   "id": "ee51c206",
   "metadata": {},
   "outputs": [],
   "source": [
    "dataset.data[-20].plot(cmap=\"pink\")"
   ]
  },
  {
   "cell_type": "code",
   "execution_count": null,
   "id": "a9b4817f",
   "metadata": {},
   "outputs": [],
   "source": [
    "imgs = [PIL.Image.fromarray(apply_colormap(img)) for img in dataset.data.values]\n",
    "imgs[0].save(f\"{group}.gif\", save_all=True, append_images=imgs[1:], duration=50, loop=0)"
   ]
  },
  {
   "cell_type": "code",
   "execution_count": null,
   "id": "a3861144",
   "metadata": {},
   "outputs": [],
   "source": [
    "Image(open(f\"{group}.gif\", \"rb\").read())"
   ]
  },
  {
   "cell_type": "code",
   "execution_count": null,
   "id": "27a7d719",
   "metadata": {},
   "outputs": [],
   "source": [
    "source_df = catalog.index.level1.sources().read()"
   ]
  },
  {
   "cell_type": "code",
   "execution_count": null,
   "id": "f861bec2",
   "metadata": {},
   "outputs": [],
   "source": [
    "source_df"
   ]
  },
  {
   "cell_type": "code",
   "execution_count": null,
   "id": "1e0828d8",
   "metadata": {},
   "outputs": [],
   "source": []
  }
 ],
 "metadata": {
  "kernelspec": {
   "display_name": "Python 3 (ipykernel)",
   "language": "python",
   "name": "python3"
  },
  "language_info": {
   "codemirror_mode": {
    "name": "ipython",
    "version": 3
   },
   "file_extension": ".py",
   "mimetype": "text/x-python",
   "name": "python",
   "nbconvert_exporter": "python",
   "pygments_lexer": "ipython3",
   "version": "3.11.9"
  }
 },
 "nbformat": 4,
 "nbformat_minor": 5
}
